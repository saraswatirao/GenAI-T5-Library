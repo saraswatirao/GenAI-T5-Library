{
  "cells": [
    {
      "cell_type": "markdown",
      "metadata": {
        "id": "34ac95bc-13d6-4df7-b638-b32a885a8fba"
      },
      "source": [
        "#  Reinforcement Learning Fundamentals Assignment\n",
        "\n",
        "Here you will use tabular Q-learning to develop a policy for the [Cart Pole](https://gymnasium.farama.org/environments/classic_control/cart_pole/) environment in Gymnasium. In the Cart Pole problem, the aim is to keep a vertical pole balanced on top of a cart. You can apply forces to move the cart right or left, which affects the position and velocity of the cart, as well as the angle and angular velocity of the pole.\n",
        "\n",
        "To complete the assignment, please do the following:\n",
        "1. Read the [Cart Pole documentation](https://gymnasium.farama.org/environments/classic_control/cart_pole/) to get an understanding of the states, actions, and rewards associated with this environment.\n",
        "2. Propose a method for discretizing the state space. This problem has a continuous state space, unlike the Blackjack environment that we worked with previously. This presents a challenge, since tabular Q-learning requires the problem to have a finite state space. We will address this by mapping the each of the problem's continuous states to a state in an approximate finite state space. When selecting your finite state space, you will need to strike the right balance between using an apporoximation that is sufficiently granular to be accurate, but not so granular that the resulting state space is too large to effectively implement tabular Q-learning.\n",
        "3. Implement tabular Q-learning to compute a policy for the Cart Pole problem. You may reuse code from the Blackjack notebook that we used in class.\n",
        "4. Simulate your policy in the cartpole environment. Can you keep the pole balanced for at least 500 time steps?"
      ],
      "id": "34ac95bc-13d6-4df7-b638-b32a885a8fba"
    },
    {
      "cell_type": "markdown",
      "metadata": {
        "id": "a8f2b8c8-e457-4034-9bd3-89f369b58322"
      },
      "source": [
        "---\n",
        "\n",
        "Before you get started, we will set up and demonstrate the Cart Pole environment."
      ],
      "id": "a8f2b8c8-e457-4034-9bd3-89f369b58322"
    },
    {
      "cell_type": "code",
      "execution_count": null,
      "metadata": {
        "colab": {
          "base_uri": "https://localhost:8080/"
        },
        "id": "b38fb31e-3002-4add-a92f-b35e1a3220f8",
        "outputId": "973ecfdc-31f6-459e-a7a0-d60b99036ddd"
      },
      "outputs": [
        {
          "output_type": "stream",
          "name": "stdout",
          "text": [
            "Requirement already satisfied: gymnasium in /usr/local/lib/python3.10/dist-packages (0.29.1)\n",
            "Requirement already satisfied: numpy>=1.21.0 in /usr/local/lib/python3.10/dist-packages (from gymnasium) (1.23.5)\n",
            "Requirement already satisfied: cloudpickle>=1.2.0 in /usr/local/lib/python3.10/dist-packages (from gymnasium) (2.2.1)\n",
            "Requirement already satisfied: typing-extensions>=4.3.0 in /usr/local/lib/python3.10/dist-packages (from gymnasium) (4.5.0)\n",
            "Requirement already satisfied: farama-notifications>=0.0.1 in /usr/local/lib/python3.10/dist-packages (from gymnasium) (0.0.4)\n",
            "Requirement already satisfied: gymnasium[classic-control] in /usr/local/lib/python3.10/dist-packages (0.29.1)\n",
            "Requirement already satisfied: numpy>=1.21.0 in /usr/local/lib/python3.10/dist-packages (from gymnasium[classic-control]) (1.23.5)\n",
            "Requirement already satisfied: cloudpickle>=1.2.0 in /usr/local/lib/python3.10/dist-packages (from gymnasium[classic-control]) (2.2.1)\n",
            "Requirement already satisfied: typing-extensions>=4.3.0 in /usr/local/lib/python3.10/dist-packages (from gymnasium[classic-control]) (4.5.0)\n",
            "Requirement already satisfied: farama-notifications>=0.0.1 in /usr/local/lib/python3.10/dist-packages (from gymnasium[classic-control]) (0.0.4)\n",
            "Requirement already satisfied: pygame>=2.1.3 in /usr/local/lib/python3.10/dist-packages (from gymnasium[classic-control]) (2.5.2)\n"
          ]
        }
      ],
      "source": [
        "!pip install gymnasium\n",
        "!pip install gymnasium[classic-control]"
      ],
      "id": "b38fb31e-3002-4add-a92f-b35e1a3220f8"
    },
    {
      "cell_type": "code",
      "execution_count": null,
      "metadata": {
        "id": "aabe4efe-ef3b-4cfb-8d94-4b401a893984"
      },
      "outputs": [],
      "source": [
        "import gymnasium as gym\n",
        "import numpy as np\n",
        "import random\n",
        "\n",
        "from IPython import display\n",
        "import matplotlib.pyplot as plt"
      ],
      "id": "aabe4efe-ef3b-4cfb-8d94-4b401a893984"
    },
    {
      "cell_type": "markdown",
      "metadata": {
        "id": "977807da-4451-4037-a551-6a2df0e123b5"
      },
      "source": [
        "Here we simulate the environment with the following simple heuristic policy:\n",
        "- If the pole is leaning to the left, push the cart to the left\n",
        "- If the pole is leaning to the right, push the cart to the right\n",
        "\n",
        "As you can see, this policy is actually unstable. The pole will quickly fall and the cart will run off the screen.\n",
        "\n",
        "**NOTE:** The animations of the environment can look glitchy if you run them directly in Colab. Run the notebook locally to see smoother animations."
      ],
      "id": "977807da-4451-4037-a551-6a2df0e123b5"
    },
    {
      "cell_type": "code",
      "execution_count": null,
      "metadata": {
        "colab": {
          "base_uri": "https://localhost:8080/",
          "height": 396
        },
        "id": "c8ca4b64-14e9-42bb-afc3-e323e3fc8ef4",
        "outputId": "90493192-c2a1-462d-aa11-f42778605ab5"
      },
      "outputs": [
        {
          "output_type": "display_data",
          "data": {
            "text/plain": [
              "<Figure size 640x480 with 1 Axes>"
            ],
            "image/png": "[encoded data removed]"
          },
          "metadata": {}
        }
      ],
      "source": [
        "env = gym.make(\"CartPole-v1\", render_mode=\"rgb_array\")\n",
        "\n",
        "obs = env.reset()[0]\n",
        "plt.imshow(env.render())\n",
        "plt.show()\n",
        "\n",
        "for i in range(250):\n",
        "\n",
        "    if obs[2] < 0:\n",
        "        action=0\n",
        "    else:\n",
        "        action=1\n",
        "\n",
        "    obs, reward, done, info, other = env.step(action)\n",
        "\n",
        "    display.clear_output(wait=True)\n",
        "    plt.imshow(env.render())\n",
        "    plt.show()\n",
        "\n",
        "env.close()"
      ],
      "id": "c8ca4b64-14e9-42bb-afc3-e323e3fc8ef4"
    },
    {
      "cell_type": "markdown",
      "metadata": {
        "id": "718d663e-a973-495c-9bec-fd8c35175b5b"
      },
      "source": [
        "---"
      ],
      "id": "718d663e-a973-495c-9bec-fd8c35175b5b"
    },
    {
      "cell_type": "markdown",
      "metadata": {
        "id": "6d3889a7-3ea7-450e-ba02-0b45a3322626"
      },
      "source": [
        "To discretize the state space, we could simply round down all of the continuous components of the state to the nearest integer. For this problem, it is important to round down (or round up) rather than rounding to the nearest integer. To understand why, consider the cases when the pole is angled slightly to the left of vertical versus slightly to the right of vertical. If we round the angle to the nearest integer, the angle will be rounded to zero in both cases. However, intuitively we want to respond to these two cases differently. Rounding down or up will preserve the distinction between these two cases.\n",
        "\n",
        "Simply rounding all components of the state down will yield a policy that is capable of occasionally balancing the pole for 500 time steps. However, we can obtain a policy that achieves this goal more reliably if we use a finer discretization of the state space. As mentioned above, we need to take care to strike the right balance between using an apporoximation that is sufficiently granular to be accurate, but not so granular that the resulting state space is too large to effectively implement tabular Q-learning.\n",
        "\n",
        "After some experimentation, we arrived at the observation that increasing the resolution of the angle and angular velocity has a greater impact on the resulting policy that increasing the resolution of the position and velocity. As a result, we will use a discretization that rounds the position and velocity down in increments of 0.5, and rounds the angle and angular velocity down in increments of 0.2."
      ],
      "id": "6d3889a7-3ea7-450e-ba02-0b45a3322626"
    },
    {
      "cell_type": "code",
      "execution_count": null,
      "metadata": {
        "colab": {
          "base_uri": "https://localhost:8080/"
        },
        "id": "87663d5f-7033-4ec9-b065-4bcde6071b55",
        "outputId": "4d8b8d7d-587a-4df7-ddb8-71743634b154"
      },
      "outputs": [
        {
          "output_type": "stream",
          "name": "stdout",
          "text": [
            "249000 episodes run..."
          ]
        }
      ],
      "source": [
        "# Implement your Q-learning code here\n",
        "\n",
        "env = gym.make('CartPole-v1', render_mode=\"rgb_array\")\n",
        "\n",
        "n_games = 250000\n",
        "\n",
        "g = 0.98\n",
        "\n",
        "a = 0.05\n",
        "e = 0.05\n",
        "\n",
        "Q = {}\n",
        "Q[(\"done\", 0)] = 0\n",
        "Q[(\"done\", 1)] = 0\n",
        "\n",
        "for i in range(n_games):\n",
        "\n",
        "    if i%1000 == 0:\n",
        "        print(f\"\\r{i} episodes run...\", end=\"\")\n",
        "\n",
        "    state = env.reset()[0]\n",
        "    # Discretize obs as described above\n",
        "    state[0] = 2*state[0]\n",
        "    state[1] = 2*state[1]\n",
        "    state[2] = 5*state[2]\n",
        "    state[3] = 5*state[3]\n",
        "    obs = tuple(np.floor(state))\n",
        "\n",
        "    if (obs, 0) not in Q:\n",
        "        Q[(obs, 0)] = 0.0\n",
        "    if (obs, 1) not in Q:\n",
        "        Q[(obs, 1)] = 0.0\n",
        "\n",
        "    done = False\n",
        "    while done is False:\n",
        "\n",
        "        # Implement epsilon-greedy\n",
        "        if random.random() < e:\n",
        "            action = env.action_space.sample()\n",
        "        elif Q[(obs, 0)] > Q[(obs, 1)]:\n",
        "            action = 0\n",
        "        else:\n",
        "            action = 1\n",
        "\n",
        "        obs_prev = obs\n",
        "        state, reward, done, info, other = env.step(action)\n",
        "        # Discretize obs as described above\n",
        "        state[0] = 2*state[0]\n",
        "        state[1] = 2*state[1]\n",
        "        state[2] = 5*state[2]\n",
        "        state[3] = 5*state[3]\n",
        "        obs = tuple(np.floor(state))\n",
        "        if done:\n",
        "            obs = \"done\"\n",
        "\n",
        "        if (obs, 0) not in Q:\n",
        "            Q[(obs, 0)] = 0.0\n",
        "        if (obs, 1) not in Q:\n",
        "            Q[(obs, 1)] = 0.0\n",
        "\n",
        "        maxQ = max(Q[(obs, 0)], Q[(obs, 1)])\n",
        "        Q[(obs_prev, action)] = (1-a)*Q[(obs_prev, action)] + a*(reward + g*maxQ)\n",
        "\n",
        "env.close()"
      ],
      "id": "87663d5f-7033-4ec9-b065-4bcde6071b55"
    },
    {
      "cell_type": "code",
      "execution_count": null,
      "metadata": {
        "colab": {
          "base_uri": "https://localhost:8080/",
          "height": 396
        },
        "id": "b1eacdc6-5588-4d29-816a-678d213ae9df",
        "outputId": "f2914c30-12ac-4f30-e306-7c4775d96e4e"
      },
      "outputs": [
        {
          "output_type": "display_data",
          "data": {
            "text/plain": [
              "<Figure size 640x480 with 1 Axes>"
            ],
            "image/png": "[encoded data removed]"
          },
          "metadata": {}
        }
      ],
      "source": [
        "# Implement the simulation of your policy here\n",
        "\n",
        "env = gym.make('CartPole-v1', render_mode=\"rgb_array\")\n",
        "\n",
        "state = env.reset()[0]\n",
        "state[0] = 2*state[0]\n",
        "state[1] = 2*state[1]\n",
        "state[2] = 5*state[2]\n",
        "state[3] = 5*state[3]\n",
        "obs = tuple(np.floor(state))\n",
        "\n",
        "plt.imshow(env.render())\n",
        "plt.show()\n",
        "\n",
        "for i in range(500):\n",
        "\n",
        "    if (obs, 0) not in Q:\n",
        "        action = env.action_space.sample()\n",
        "    elif Q[(obs, 0)] > Q[(obs, 1)]:\n",
        "        action = 0\n",
        "    else:\n",
        "        action = 1\n",
        "\n",
        "    state, reward, done, info, other = env.step(action)\n",
        "    if done:\n",
        "        break\n",
        "    state[0] = 2*state[0]\n",
        "    state[1] = 2*state[1]\n",
        "    state[2] = 5*state[2]\n",
        "    state[3] = 5*state[3]\n",
        "    obs = tuple(np.floor(state))\n",
        "\n",
        "    display.clear_output(wait=True)\n",
        "    plt.imshow(env.render())\n",
        "    plt.text(25,25,i)\n",
        "    plt.show()\n",
        "\n",
        "env.close()"
      ],
      "id": "b1eacdc6-5588-4d29-816a-678d213ae9df"
    },
    {
      "cell_type": "code",
      "source": [],
      "metadata": {
        "id": "4tm7VLN60rP2"
      },
      "id": "4tm7VLN60rP2",
      "execution_count": null,
      "outputs": []
    }
  ],
  "metadata": {
    "colab": {
      "provenance": []
    },
    "kernelspec": {
      "display_name": "Python 3 (ipykernel)",
      "language": "python",
      "name": "python3"
    },
    "language_info": {
      "codemirror_mode": {
        "name": "ipython",
        "version": 3
      },
      "file_extension": ".py",
      "mimetype": "text/x-python",
      "name": "python",
      "nbconvert_exporter": "python",
      "pygments_lexer": "ipython3",
      "version": "3.11.4"
    }
  },
  "nbformat": 4,
  "nbformat_minor": 5
}